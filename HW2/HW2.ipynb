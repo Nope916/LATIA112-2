{
  "nbformat": 4,
  "nbformat_minor": 0,
  "metadata": {
    "colab": {
      "provenance": []
    },
    "kernelspec": {
      "name": "python3",
      "display_name": "Python 3"
    },
    "language_info": {
      "name": "python"
    }
  },
  "cells": [
    {
      "cell_type": "code",
      "source": [
        "!pip install selenium"
      ],
      "metadata": {
        "colab": {
          "base_uri": "https://localhost:8080/"
        },
        "id": "pXT5gHzdywkL",
        "outputId": "36672f4b-0d2d-44c8-c3ea-cff52d1c75a3"
      },
      "execution_count": 5,
      "outputs": [
        {
          "output_type": "stream",
          "name": "stdout",
          "text": [
            "Requirement already satisfied: selenium in /usr/local/lib/python3.10/dist-packages (4.20.0)\n",
            "Requirement already satisfied: urllib3[socks]<3,>=1.26 in /usr/local/lib/python3.10/dist-packages (from selenium) (2.0.7)\n",
            "Requirement already satisfied: trio~=0.17 in /usr/local/lib/python3.10/dist-packages (from selenium) (0.25.0)\n",
            "Requirement already satisfied: trio-websocket~=0.9 in /usr/local/lib/python3.10/dist-packages (from selenium) (0.11.1)\n",
            "Requirement already satisfied: certifi>=2021.10.8 in /usr/local/lib/python3.10/dist-packages (from selenium) (2024.2.2)\n",
            "Requirement already satisfied: typing_extensions>=4.9.0 in /usr/local/lib/python3.10/dist-packages (from selenium) (4.11.0)\n",
            "Requirement already satisfied: attrs>=23.2.0 in /usr/local/lib/python3.10/dist-packages (from trio~=0.17->selenium) (23.2.0)\n",
            "Requirement already satisfied: sortedcontainers in /usr/local/lib/python3.10/dist-packages (from trio~=0.17->selenium) (2.4.0)\n",
            "Requirement already satisfied: idna in /usr/local/lib/python3.10/dist-packages (from trio~=0.17->selenium) (3.7)\n",
            "Requirement already satisfied: outcome in /usr/local/lib/python3.10/dist-packages (from trio~=0.17->selenium) (1.3.0.post0)\n",
            "Requirement already satisfied: sniffio>=1.3.0 in /usr/local/lib/python3.10/dist-packages (from trio~=0.17->selenium) (1.3.1)\n",
            "Requirement already satisfied: exceptiongroup in /usr/local/lib/python3.10/dist-packages (from trio~=0.17->selenium) (1.2.1)\n",
            "Requirement already satisfied: wsproto>=0.14 in /usr/local/lib/python3.10/dist-packages (from trio-websocket~=0.9->selenium) (1.2.0)\n",
            "Requirement already satisfied: pysocks!=1.5.7,<2.0,>=1.5.6 in /usr/local/lib/python3.10/dist-packages (from urllib3[socks]<3,>=1.26->selenium) (1.7.1)\n",
            "Requirement already satisfied: h11<1,>=0.9.0 in /usr/local/lib/python3.10/dist-packages (from wsproto>=0.14->trio-websocket~=0.9->selenium) (0.14.0)\n"
          ]
        }
      ]
    },
    {
      "cell_type": "code",
      "source": [
        "from google.colab import drive\n",
        "drive.mount('/content/gdrive/', force_remount=True)\n",
        "\n",
        "import os\n",
        "os.chdir(\"/content/gdrive/My Drive/\")\n",
        "os.listdir()"
      ],
      "metadata": {
        "colab": {
          "base_uri": "https://localhost:8080/"
        },
        "id": "PVqDEjRGyxtC",
        "outputId": "a9be6862-5ec6-42d6-d14b-356b8291ebce"
      },
      "execution_count": 7,
      "outputs": [
        {
          "output_type": "stream",
          "name": "stdout",
          "text": [
            "Mounted at /content/gdrive/\n"
          ]
        },
        {
          "output_type": "execute_result",
          "data": {
            "text/plain": [
              "['Zerojudge',\n",
              " 'Book',\n",
              " '考古題',\n",
              " '電機08',\n",
              " '電子實驗',\n",
              " 'Top Stars 2 Resource',\n",
              " 'Top Stars 1 Resource',\n",
              " 'Colab Notebooks',\n",
              " 'AVA OTP金鑰.gdoc',\n",
              " 'Classroom']"
            ]
          },
          "metadata": {},
          "execution_count": 7
        }
      ]
    },
    {
      "cell_type": "code",
      "source": [
        "import requests as rq\n",
        "import pandas as pd\n",
        "from bs4 import BeautifulSoup as soup\n",
        "from selenium import webdriver\n",
        "from selenium.webdriver.chrome.options import Options\n",
        "from selenium.webdriver.common.by import By\n",
        "from selenium.webdriver.common.keys import Keys\n",
        "import time\n",
        "import csv\n",
        "\n",
        "# Initialize a Selenium web driver\n",
        "chrome_options = webdriver.ChromeOptions()\n",
        "\n",
        "# 使用add_argument()方法添加--headless參數，使Chrome以headless模式運行，即在後台運行，不顯示GUI界面。\n",
        "chrome_options.add_argument('--headless')\n",
        "\n",
        "# 使用add_argument()方法添加--no-sandbox參數，這是一個必要的參數，用於解決在某些環境下的運行問題。\n",
        "chrome_options.add_argument('--no-sandbox')\n",
        "\n",
        "# 將 headless 屬性設置為 True。\n",
        "chrome_options.headless = True\n",
        "\n",
        "#driver = webdriver.Chrome('chromedriver', options=chrome_options)\n",
        "driver = webdriver.Chrome(options=chrome_options)\n",
        "\n",
        "base_url = 'http://books.toscrape.com/'\n",
        "driver.get(base_url)\n",
        "\n",
        "books = driver.find_elements(By.CSS_SELECTOR, 'article.product_pod')\n",
        "book_data = []\n",
        "\n",
        "for book in books:\n",
        "    title = book.find_element(By.CSS_SELECTOR, 'h3 a').get_attribute('title')\n",
        "    price = book.find_element(By.CSS_SELECTOR, 'p.price_color').text\n",
        "    book_data.append([title, price])\n",
        "\n",
        "# Close the driver\n",
        "driver.quit()\n",
        "\n",
        "# Optionally save the data to CSV\n",
        "with open('books.csv', 'w', newline='', encoding='utf-8') as file:\n",
        "    writer = csv.writer(file)\n",
        "    writer.writerow(['Title', 'Price'])\n",
        "    writer.writerows(book_data)\n",
        "\n",
        "# Print the data collected\n",
        "for title, price in book_data:\n",
        "    print(title, price)"
      ],
      "metadata": {
        "colab": {
          "base_uri": "https://localhost:8080/"
        },
        "id": "JqEJDjf2y40I",
        "outputId": "fee8d151-4b07-4b57-cbbc-ae16536afb78"
      },
      "execution_count": 8,
      "outputs": [
        {
          "output_type": "stream",
          "name": "stdout",
          "text": [
            "A Light in the Attic £51.77\n",
            "Tipping the Velvet £53.74\n",
            "Soumission £50.10\n",
            "Sharp Objects £47.82\n",
            "Sapiens: A Brief History of Humankind £54.23\n",
            "The Requiem Red £22.65\n",
            "The Dirty Little Secrets of Getting Your Dream Job £33.34\n",
            "The Coming Woman: A Novel Based on the Life of the Infamous Feminist, Victoria Woodhull £17.93\n",
            "The Boys in the Boat: Nine Americans and Their Epic Quest for Gold at the 1936 Berlin Olympics £22.60\n",
            "The Black Maria £52.15\n",
            "Starving Hearts (Triangular Trade Trilogy, #1) £13.99\n",
            "Shakespeare's Sonnets £20.66\n",
            "Set Me Free £17.46\n",
            "Scott Pilgrim's Precious Little Life (Scott Pilgrim #1) £52.29\n",
            "Rip it Up and Start Again £35.02\n",
            "Our Band Could Be Your Life: Scenes from the American Indie Underground, 1981-1991 £57.25\n",
            "Olio £23.88\n",
            "Mesaerion: The Best Science Fiction Stories 1800-1849 £37.59\n",
            "Libertarianism for Beginners £51.33\n",
            "It's Only the Himalayas £45.17\n"
          ]
        }
      ]
    }
  ]
}