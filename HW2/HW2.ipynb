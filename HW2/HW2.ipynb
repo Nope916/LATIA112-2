{
  "cells": [
    {
      "cell_type": "code",
      "execution_count": null,
      "metadata": {
        "colab": {
          "base_uri": "https://localhost:8080/"
        },
        "id": "pXT5gHzdywkL",
        "outputId": "36672f4b-0d2d-44c8-c3ea-cff52d1c75a3"
      },
      "outputs": [
        {
          "name": "stdout",
          "output_type": "stream",
          "text": [
            "Requirement already satisfied: selenium in /usr/local/lib/python3.10/dist-packages (4.20.0)\n",
            "Requirement already satisfied: urllib3[socks]<3,>=1.26 in /usr/local/lib/python3.10/dist-packages (from selenium) (2.0.7)\n",
            "Requirement already satisfied: trio~=0.17 in /usr/local/lib/python3.10/dist-packages (from selenium) (0.25.0)\n",
            "Requirement already satisfied: trio-websocket~=0.9 in /usr/local/lib/python3.10/dist-packages (from selenium) (0.11.1)\n",
            "Requirement already satisfied: certifi>=2021.10.8 in /usr/local/lib/python3.10/dist-packages (from selenium) (2024.2.2)\n",
            "Requirement already satisfied: typing_extensions>=4.9.0 in /usr/local/lib/python3.10/dist-packages (from selenium) (4.11.0)\n",
            "Requirement already satisfied: attrs>=23.2.0 in /usr/local/lib/python3.10/dist-packages (from trio~=0.17->selenium) (23.2.0)\n",
            "Requirement already satisfied: sortedcontainers in /usr/local/lib/python3.10/dist-packages (from trio~=0.17->selenium) (2.4.0)\n",
            "Requirement already satisfied: idna in /usr/local/lib/python3.10/dist-packages (from trio~=0.17->selenium) (3.7)\n",
            "Requirement already satisfied: outcome in /usr/local/lib/python3.10/dist-packages (from trio~=0.17->selenium) (1.3.0.post0)\n",
            "Requirement already satisfied: sniffio>=1.3.0 in /usr/local/lib/python3.10/dist-packages (from trio~=0.17->selenium) (1.3.1)\n",
            "Requirement already satisfied: exceptiongroup in /usr/local/lib/python3.10/dist-packages (from trio~=0.17->selenium) (1.2.1)\n",
            "Requirement already satisfied: wsproto>=0.14 in /usr/local/lib/python3.10/dist-packages (from trio-websocket~=0.9->selenium) (1.2.0)\n",
            "Requirement already satisfied: pysocks!=1.5.7,<2.0,>=1.5.6 in /usr/local/lib/python3.10/dist-packages (from urllib3[socks]<3,>=1.26->selenium) (1.7.1)\n",
            "Requirement already satisfied: h11<1,>=0.9.0 in /usr/local/lib/python3.10/dist-packages (from wsproto>=0.14->trio-websocket~=0.9->selenium) (0.14.0)\n"
          ]
        }
      ],
      "source": [
        "!pip install selenium"
      ]
    },
    {
      "cell_type": "code",
      "execution_count": null,
      "metadata": {
        "colab": {
          "base_uri": "https://localhost:8080/"
        },
        "id": "PVqDEjRGyxtC",
        "outputId": "a9be6862-5ec6-42d6-d14b-356b8291ebce"
      },
      "outputs": [
        {
          "name": "stdout",
          "output_type": "stream",
          "text": [
            "Mounted at /content/gdrive/\n"
          ]
        },
        {
          "data": {
            "text/plain": [
              "['Zerojudge',\n",
              " 'Book',\n",
              " '考古題',\n",
              " '電機08',\n",
              " '電子實驗',\n",
              " 'Top Stars 2 Resource',\n",
              " 'Top Stars 1 Resource',\n",
              " 'Colab Notebooks',\n",
              " 'AVA OTP金鑰.gdoc',\n",
              " 'Classroom']"
            ]
          },
          "execution_count": 7,
          "metadata": {},
          "output_type": "execute_result"
        }
      ],
      "source": [
        "from google.colab import drive\n",
        "drive.mount('/content/gdrive/', force_remount=True)\n",
        "\n",
        "import os\n",
        "os.chdir(\"/content/gdrive/My Drive/\")\n",
        "os.listdir()"
      ]
    },
    {
      "cell_type": "code",
      "execution_count": null,
      "metadata": {
        "id": "JqEJDjf2y40I"
      },
      "outputs": [],
      "source": [
        "from selenium import webdriver\n",
        "from selenium.webdriver.chrome.options import Options\n",
        "from selenium.webdriver.common.by import By\n",
        "import time\n",
        "import csv\n",
        "\n",
        "# Setup Chrome options\n",
        "chrome_options = Options()\n",
        "chrome_options.add_argument('--headless')\n",
        "chrome_options.add_argument('--no-sandbox')\n",
        "chrome_options.headless = True\n",
        "\n",
        "# Initialize WebDriver\n",
        "driver = webdriver.Chrome(options=chrome_options)\n",
        "\n",
        "# Define the URL to visit\n",
        "base_url = \"http://books.toscrape.com/catalogue/page-{}.html\"\n",
        "current_page = 1\n",
        "total_pages = 50  # Total pages to scrape\n",
        "book_data = []\n",
        "\n",
        "while current_page <= total_pages:\n",
        "    url = base_url.format(current_page)\n",
        "    driver.get(url)\n",
        "\n",
        "    # Allow time for the page to load\n",
        "    time.sleep(3)\n",
        "\n",
        "    # Find elements, example extracting book titles, prices, and ratings\n",
        "    books = driver.find_elements(By.CSS_SELECTOR, 'article.product_pod')\n",
        "    for book in books:\n",
        "        title = book.find_element(By.CSS_SELECTOR, 'h3 a').get_attribute('title')\n",
        "        price = book.find_element(By.CSS_SELECTOR, 'p.price_color').text\n",
        "        # Extracting the rating\n",
        "        rating_element = book.find_element(By.CSS_SELECTOR, 'p.star-rating')\n",
        "        rating_class = rating_element.get_attribute('class')\n",
        "        rating = rating_class.split()[-1]  # Get the last part of the class attribute that contains the rating\n",
        "\n",
        "        book_data.append([title, price, rating])\n",
        "\n",
        "    # Move to the next page\n",
        "    current_page += 1\n",
        "\n",
        "# Close the driver\n",
        "driver.quit()\n",
        "\n",
        "# Optionally save the data to CSV\n",
        "with open('all_books.csv', 'w', newline='', encoding='utf-8') as file:\n",
        "    writer = csv.writer(file)\n",
        "    writer.writerow(['Title', 'Price', 'Rating'])\n",
        "    writer.writerows(book_data)\n",
        "\n",
        "# Print the data collected\n",
        "for title, price, rating in book_data:\n",
        "    print(title, price, rating)\n"
      ]
    }
  ],
  "metadata": {
    "colab": {
      "provenance": []
    },
    "kernelspec": {
      "display_name": "Python 3",
      "name": "python3"
    },
    "language_info": {
      "name": "python"
    }
  },
  "nbformat": 4,
  "nbformat_minor": 0
}
